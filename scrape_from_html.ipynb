{
 "cells": [
  {
   "cell_type": "code",
   "execution_count": 6,
   "metadata": {},
   "outputs": [
    {
     "name": "stdout",
     "output_type": "stream",
     "text": [
      "Extracted text items have been saved to extracted_text.txt\n"
     ]
    }
   ],
   "source": [
    "from bs4 import BeautifulSoup\n",
    "import re\n",
    "\n",
    "def read_html_file(file_path):\n",
    "    \"\"\"\n",
    "    Reads the content of an HTML file.\n",
    "\n",
    "    Parameters:\n",
    "    - file_path (str): The path to the HTML file.\n",
    "\n",
    "    Returns:\n",
    "    - str: The content of the HTML file.\n",
    "    \"\"\"\n",
    "    with open(file_path, 'r', encoding='utf-8') as file:\n",
    "        return file.read()\n",
    "\n",
    "def extract_text_from_class(html_content, class_name):\n",
    "    \"\"\"\n",
    "    Extracts all text items from elements with the specified class name.\n",
    "\n",
    "    Parameters:\n",
    "    - html_content (str): The HTML content to parse.\n",
    "    - class_name (str): The class name to search for.\n",
    "\n",
    "    Returns:\n",
    "    - list: A list of text items extracted from the specified class.\n",
    "    \"\"\"\n",
    "    soup = BeautifulSoup(html_content, 'html.parser')\n",
    "    elements = soup.find_all(class_=class_name)\n",
    "    text_items = [re.sub(r'\\s+', ' ', element.get_text()).strip() for element in elements]\n",
    "    return text_items\n",
    "\n",
    "def save_text_to_file(text_items, output_file_path):\n",
    "    \"\"\"\n",
    "    Saves the list of text items to a text file with \\n as separator.\n",
    "\n",
    "    Parameters:\n",
    "    - text_items (list): The list of text items to save.\n",
    "    - output_file_path (str): The path to the output text file.\n",
    "    \"\"\"\n",
    "    with open(output_file_path, 'w', encoding='utf-8') as file:\n",
    "        file.write('\\n'.join(text_items))\n",
    "\n",
    "# Example usage\n",
    "file_path = './test.html'  # Replace with the path to your HTML file\n",
    "class_name = 'sc-1dsz9yo-7 eNkWzS'\n",
    "output_file_path = 'extracted_text.txt'  # Replace with the desired output file path\n",
    "\n",
    "html_content = read_html_file(file_path)\n",
    "text_items = extract_text_from_class(html_content, class_name)\n",
    "save_text_to_file(text_items, output_file_path)\n",
    "print(f\"Extracted text items have been saved to {output_file_path}\")\n"
   ]
  },
  {
   "cell_type": "code",
   "execution_count": null,
   "metadata": {},
   "outputs": [],
   "source": []
  }
 ],
 "metadata": {
  "kernelspec": {
   "display_name": "Python 3",
   "language": "python",
   "name": "python3"
  },
  "language_info": {
   "codemirror_mode": {
    "name": "ipython",
    "version": 3
   },
   "file_extension": ".py",
   "mimetype": "text/x-python",
   "name": "python",
   "nbconvert_exporter": "python",
   "pygments_lexer": "ipython3",
   "version": "3.9.6"
  }
 },
 "nbformat": 4,
 "nbformat_minor": 2
}
